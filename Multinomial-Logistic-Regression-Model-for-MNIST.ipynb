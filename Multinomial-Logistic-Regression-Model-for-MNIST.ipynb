{
 "cells": [
  {
   "cell_type": "markdown",
   "id": "92a96f29",
   "metadata": {},
   "source": [
    "# Tema 4: model de regresie logistica multinomiala antrenat cu Pytorch"
   ]
  },
  {
   "cell_type": "markdown",
   "id": "c4977baf",
   "metadata": {},
   "source": [
    "Implementati un model de regresie logistica multinomiala pentru clasificarea celor 10 tipuri de cifre din setul MNIST.\n",
    "\n",
    "Puteti reutiliza si adapta cod din exemplul Pytorch pentru regresia logistica binara. \n",
    "Modificarile pe care trebuie sa le aveti in vedere sunt:\n",
    "1. in definirea lui Dataset nu se mai face filtrare dupa clasele pozitive si negative; se lasa toate datele\n",
    "1. In definirea clasei modelului, stratul `self.fully_connected` trebuie sa fie cu numarul de iesiri egal cu numarul de clase\n",
    "1. La predictie, pentru fiecare vector de intrare (cifra reprezentata ca vector de 784 de valori) modelul produce un vector de 10 probabilitati. Clasa se decide ca indicele pe care probabilitatea este maxima. Aceasta afecteaza implementarea functiei de testare\n",
    "1. Se reccomanda ca in functia `forward` a modelului sa nu se mai aplice si functia softmax, ci sa se returneze direct logitii (valoarea producsa de aplicarea stratului liniar, adica inmultirea dintre matricea de ponderi si intrare)\n",
    "1. Functia de eroare `loss_fn` este `torch.nn.CrossEntropyLoss`. Aceasta preia logitii produsi de model (punctul de mai sus)\n",
    "\n",
    "Creati o matrice de confuzie pentru clase; puteti folosi [scikit learn](https://scikit-learn.org/stable/modules/generated/sklearn.metrics.confusion_matrix.html). Folositi unul din optimizatorii: Adam, RMSprop, Adagrad.\n",
    "\n",
    "Prezentati in acelasi grafic loss-ul pe setul antrenare si pe testare; intr-un alt grafic acuratetea pe setul de antrenare si pe cel de testare."
   ]
  },
  {
   "cell_type": "markdown",
   "id": "e6624dde",
   "metadata": {},
   "source": [
    "Predarea acestei aplicatii se pana in 10 aprilie ora 23, in cadrul temei 4 de pe platforma. Modul de predare si de rpezentare aeste la fel ca pentru temele precedente."
   ]
  },
  {
   "cell_type": "markdown",
   "id": "b973c651",
   "metadata": {},
   "source": [
    "## Importarea pachetelor necesare "
   ]
  },
  {
   "cell_type": "code",
   "execution_count": 44,
   "id": "fd94c6ff",
   "metadata": {},
   "outputs": [
    {
     "name": "stdout",
     "output_type": "stream",
     "text": [
      "Using PyTorch version: 2.2.2+cpu  Device: cpu\n"
     ]
    }
   ],
   "source": [
    "import torch\n",
    "import torch.nn as nn\n",
    "import torch.nn.functional as F\n",
    "from torchvision import datasets, transforms\n",
    "\n",
    "import numpy as np\n",
    "import matplotlib.pyplot as plt\n",
    "\n",
    "if torch.cuda.is_available():\n",
    "    device = torch.device('cuda')\n",
    "else:\n",
    "    device = torch.device('cpu')\n",
    "    \n",
    "print('Using PyTorch version:', torch.__version__, ' Device:', device)"
   ]
  },
  {
   "cell_type": "markdown",
   "id": "ec8b389a",
   "metadata": {},
   "source": [
    "Pachetul torch-summary este util pentru obtinerea sumarului unui model instruibil: numar de ponderi instruibile, dimensiune etc. "
   ]
  },
  {
   "cell_type": "code",
   "execution_count": 45,
   "id": "8b8cc0d1",
   "metadata": {},
   "outputs": [
    {
     "name": "stdout",
     "output_type": "stream",
     "text": [
      "Requirement already satisfied: torchinfo in c:\\users\\celia\\anaconda3\\envs\\isml\\lib\\site-packages (1.8.0)\n",
      "Note: you may need to restart the kernel to use updated packages.\n"
     ]
    }
   ],
   "source": [
    "pip install torchinfo"
   ]
  },
  {
   "cell_type": "code",
   "execution_count": 46,
   "id": "13175fdb",
   "metadata": {},
   "outputs": [],
   "source": [
    "from torchinfo import summary"
   ]
  },
  {
   "cell_type": "markdown",
   "id": "11b908f9",
   "metadata": {},
   "source": [
    "## Pregatirea setului de date: clasa de tip Dataset"
   ]
  },
  {
   "cell_type": "code",
   "execution_count": 47,
   "id": "4ca76e0f",
   "metadata": {},
   "outputs": [],
   "source": [
    "# importam clasa de baza Dataset:\n",
    "from torch.utils.data import Dataset"
   ]
  },
  {
   "cell_type": "code",
   "execution_count": 48,
   "id": "00689efa",
   "metadata": {},
   "outputs": [],
   "source": [
    "# pentru citire de fisier cvs, verificare cai etc:\n",
    "import pandas as pd\n",
    "import os\n",
    "from typing import Tuple"
   ]
  },
  {
   "cell_type": "code",
   "execution_count": 49,
   "id": "a6776f54",
   "metadata": {},
   "outputs": [],
   "source": [
    "class MNISTDataset(Dataset):\n",
    "    def __init__(self, path_csv: str):\n",
    "        \"\"\"\n",
    "        Initializeaza setul de date, folosind o cale catre fisier csv si numarul de clase\n",
    "        :param path_csv: cale catre fisier CSV care contine date de train sau test\n",
    "        :param positive_class: indice de clasa pozitiva, numar 0...9\n",
    "        :param negative_class: indice de clasa negativa, numar 0...9 diferit de :param positive_class:\n",
    "        \"\"\"\n",
    "        # pt clasa derivata se obisnuieste apelul de initializator de clasa parinte \n",
    "        super().__init__()\n",
    "        assert os.path.exists(path_csv) and os.path.isfile(path_csv), f'Calea {path_csv} nu indica spre un fisier'\n",
    "        self.path_csv = path_csv\n",
    "        \n",
    "        _all_digits = pd.read_csv(path_csv, header=None).values\n",
    "        # valorile de intrare in x, etichetele in y \n",
    "        _y = _all_digits[:, 0]\n",
    "        _x = _all_digits[:, 1:]\n",
    "        # valorile 0..255 din setul de intrare _x sunt scalate la 0..1\n",
    "        _x = _x / 255\n",
    "\n",
    "        self.x = _x\n",
    "        self.y = _y\n",
    "\n",
    "        # convertim din numpy array in torch tensors:\n",
    "        self.x = torch.Tensor(self.x)\n",
    "        self.y = torch.Tensor(self.y)\n",
    "        \n",
    "    def __len__(self):\n",
    "        \"\"\"\n",
    "        Returneaza lungimea setului de date curent\n",
    "        :return: lungimea setului de date\n",
    "        \"\"\"\n",
    "        return len(self.y)\n",
    "    \n",
    "    def __getitem__(self, index: int) -> Tuple[torch.Tensor, torch.Tensor]:\n",
    "        \"\"\"\n",
    "        Returneaza perechea (intrare, eticheta_asociata) de pe pozitia :param index:\n",
    "        :param index: pozitia de pe care se returneaza vectorul si clasa lui\n",
    "        :return: pereche: vector de intarre de 784 de elemente, eticheta \n",
    "        \"\"\"\n",
    "        return self.x[index, :], self.y[index]"
   ]
  },
  {
   "cell_type": "code",
   "execution_count": 50,
   "id": "90319473",
   "metadata": {},
   "outputs": [],
   "source": [
    "\n",
    "train_ds = MNISTDataset('./data/mnist_train.csv')\n",
    "test_ds = MNISTDataset('./data/mnist_test.csv')\n",
    "\n",
    "assert len(train_ds) == 60000\n",
    "assert len(test_ds) == 10000"
   ]
  },
  {
   "cell_type": "markdown",
   "id": "63077f92",
   "metadata": {},
   "source": [
    "## Incarcarea datelor folosind un DataLoader\n"
   ]
  },
  {
   "cell_type": "code",
   "execution_count": 51,
   "id": "ef0718dc",
   "metadata": {},
   "outputs": [],
   "source": [
    "from torch.utils.data import DataLoader"
   ]
  },
  {
   "cell_type": "code",
   "execution_count": 52,
   "id": "8a6bad86",
   "metadata": {},
   "outputs": [
    {
     "name": "stdout",
     "output_type": "stream",
     "text": [
      "torch.Size([32, 784]) torch.Size([32])\n"
     ]
    }
   ],
   "source": [
    "batch_size = 32 # in functie de memoria disponibila pe GPU\n",
    "train_loader = DataLoader(train_ds, batch_size=batch_size, shuffle=True)\n",
    "test_loader = DataLoader(test_ds, batch_size=batch_size)\n",
    "\n",
    "# pentru primul minibatch tiparim 'shape'\n",
    "# datele de intrare ar tb sa fie un tensor de forma (batch_size x 784)\n",
    "# etichetele ar trebui sa fie un tensor de forma batch_size\n",
    "for data, label in train_loader:\n",
    "    print(data.shape, label.shape)\n",
    "    # print(data, label)\n",
    "    break\n",
    "    \n",
    "# restul de minibatchuri arata la fel, eventual exceptand ultimul minibatch"
   ]
  },
  {
   "cell_type": "markdown",
   "id": "bd974484",
   "metadata": {},
   "source": [
    "## Definirea modelului\n",
    "\n",
    "In Pytorch un model este o clasa derivata din `torch.nn.Module`. Esentiale sunt implementarea de:\n",
    "* metoda de initializare, `__init__`\n",
    "* metoda `forward` care preia un minibatch de intrare si produce o estimare\n",
    "\n",
    "Metoda de initializare construieste ponderile. "
   ]
  },
  {
   "cell_type": "code",
   "execution_count": 53,
   "id": "a02a2bb2",
   "metadata": {},
   "outputs": [],
   "source": [
    "class MultinomialLogisticRegression(nn.Module):\n",
    "    def __init__(self, input_size: int = 784):\n",
    "        \"\"\"\n",
    "        Initializarea unui obiect de tip LogisticRegression\n",
    "        :param input_size: dimensiunea unui vector de intrare. De ex, pt MINST este 784\n",
    "        \"\"\"\n",
    "        # pt clasa derivata se obisnuieste apelul de initializator de clasa parinte\n",
    "        super().__init__()\n",
    "        self.input_size = input_size\n",
    "        # matrice = operator liniar\n",
    "        self.fully_connected = nn.Linear(input_size, 10, bias=True)\n",
    "\n",
    "    def forward(self, x):\n",
    "        # x este un minibatch de exemplu de forma 32x784 (ultimul minibatch poate avea mai putin de 32 de tensori)\n",
    "\n",
    "        # se propaga dinspre stratul de intrare spre primul strat ascuns\n",
    "        # aplicarea unei functii liniare este echivalenta cu inmulttirea unei matrice cu intrarea curenta\n",
    "        logits = self.fully_connected(x)\n",
    "        return logits"
   ]
  },
  {
   "cell_type": "markdown",
   "id": "5b8a7d71",
   "metadata": {},
   "source": [
    "Instantiem modelul:"
   ]
  },
  {
   "cell_type": "code",
   "execution_count": 54,
   "id": "aa2e5593",
   "metadata": {},
   "outputs": [],
   "source": [
    "model = MultinomialLogisticRegression(input_size=784)"
   ]
  },
  {
   "cell_type": "markdown",
   "id": "caeae623",
   "metadata": {},
   "source": [
    "Tiparim modelul:"
   ]
  },
  {
   "cell_type": "code",
   "execution_count": 55,
   "id": "cfeb7429",
   "metadata": {},
   "outputs": [
    {
     "name": "stdout",
     "output_type": "stream",
     "text": [
      "MultinomialLogisticRegression(\n",
      "  (fully_connected): Linear(in_features=784, out_features=10, bias=True)\n",
      ")\n"
     ]
    }
   ],
   "source": [
    "print(model)"
   ]
  },
  {
   "cell_type": "markdown",
   "id": "5b569a55",
   "metadata": {},
   "source": [
    "Mai multe detalii se afla cu functia `summary()`:"
   ]
  },
  {
   "cell_type": "code",
   "execution_count": 56,
   "id": "4d63379e",
   "metadata": {},
   "outputs": [
    {
     "data": {
      "text/plain": [
       "=================================================================\n",
       "Layer (type:depth-idx)                   Param #\n",
       "=================================================================\n",
       "MultinomialLogisticRegression            --\n",
       "├─Linear: 1-1                            7,850\n",
       "=================================================================\n",
       "Total params: 7,850\n",
       "Trainable params: 7,850\n",
       "Non-trainable params: 0\n",
       "================================================================="
      ]
     },
     "execution_count": 56,
     "metadata": {},
     "output_type": "execute_result"
    }
   ],
   "source": [
    "summary(model)"
   ]
  },
  {
   "cell_type": "markdown",
   "id": "c2d0b54f",
   "metadata": {},
   "source": [
    "Trecem modelul pe device. Daca device=cpu, atunci linia de mai jos nu are niciun efect. Daca device=cuda, atunci modelul este trecut in GPU si rularea va fi mai rapida:"
   ]
  },
  {
   "cell_type": "code",
   "execution_count": 57,
   "id": "b3dd3e5e",
   "metadata": {},
   "outputs": [
    {
     "name": "stdout",
     "output_type": "stream",
     "text": [
      "device=cpu\n"
     ]
    },
    {
     "data": {
      "text/plain": [
       "MultinomialLogisticRegression(\n",
       "  (fully_connected): Linear(in_features=784, out_features=10, bias=True)\n",
       ")"
      ]
     },
     "execution_count": 57,
     "metadata": {},
     "output_type": "execute_result"
    }
   ],
   "source": [
    "print(f'device={device}')\n",
    "model.to(device)"
   ]
  },
  {
   "cell_type": "markdown",
   "id": "7be60190",
   "metadata": {},
   "source": [
    "## Scurt demo: ce prezice modelul pentru primul minibatch din setul de antrenare?"
   ]
  },
  {
   "cell_type": "code",
   "execution_count": 58,
   "id": "090135c1",
   "metadata": {},
   "outputs": [
    {
     "name": "stdout",
     "output_type": "stream",
     "text": [
      "Cate clase au fost prezise corect:  tensor(2)\n"
     ]
    }
   ],
   "source": [
    "for x, y in train_loader:\n",
    "    # datele si modelul trebuie sa fie pe acelasi device, altfel calculele nu se pot efectua\n",
    "    x, y = x.to(device), y.to(device)\n",
    "    \n",
    "    # produce predictia, tensor plin cu probabilitati\n",
    "    logits = model(x)\n",
    "\n",
    "   # Clasa prezisă este cea cu probabilitatea cea mai mare\n",
    "    predicted_classes = torch.argmax(logits, dim=1)\n",
    "    # clase e un vector de booleni; True = 1, False = 0\n",
    "    print('Cate clase au fost prezise corect: ', (predicted_classes == y).sum())\n",
    "    \n",
    "    # ne oprim dupa primul minibatch aici, e doar pentru a vedea cum arata predictiile facute de model\n",
    "    break "
   ]
  },
  {
   "cell_type": "markdown",
   "id": "8582955e",
   "metadata": {},
   "source": [
    "## Antrenarea modelului\n",
    "\n",
    "Vom avea mai multe epoci de antrenare. In fiecare epoca:\n",
    "* se parcurg toate minibatchurile de date din train_loader\n",
    "* se calculeaza functie de eroare pe minibatch, se calculeaza gradientii, se aplica gradientii pentru modificarea ponderilor\n",
    "* la finalul fiecarei epoci se ruleaza modelul pe setul de testare, pentru a vedea acuratetea obtinuta"
   ]
  },
  {
   "cell_type": "code",
   "execution_count": 59,
   "id": "ca536b18",
   "metadata": {},
   "outputs": [],
   "source": [
    "# dezactivam urmarirea automata a tensorilor pentru care se pot calcula gradienti:\n",
    "# gradientii sunt folositidoar la antrenare, nu si la testare\n",
    "@torch.no_grad()\n",
    "def test(model: nn.Module, loader: DataLoader, device: torch.device) -> float:\n",
    "    \"\"\"\n",
    "    Testeaza modelul pe datele furnizate de :param loader:\n",
    "    :param model: modelul de regresie logistica multinomiala\n",
    "    :param loader: un dataloader care furnizeaza datele din setul de testare\n",
    "    :param device: pe ce device se afla modelul (cpu, gpu, tpu etc)\n",
    "    :return: acuratetea de predictie\n",
    "    \"\"\"\n",
    "    # initializare valori pt statistica\n",
    "    correctly_classified = 0\n",
    "    total_items = 0\n",
    "    # cand se face testarea, modelul nu mai invata. El e trecut explicit in mod de testare\n",
    "    model.eval()\n",
    "    for x, y in loader:\n",
    "        # trecem datele din setul de testare pe acelasi device ca si modelul\n",
    "        x, y = x.to(device), y.to(device)\n",
    "        \n",
    "        # modelul prezice probabilitatile conditionate pentru minibatchul curent\n",
    "        logits = model(x)\n",
    "        \n",
    "        # predictia e clasa pozitiva daca probabilitatea e >=0.5, altfel clasa negativa\n",
    "        predicted_class = torch.argmax(logits, dim=1)\n",
    "        \n",
    "        correctly_classified += torch.sum(predicted_class == y)\n",
    "        total_items += len(x)\n",
    "    accuracy = correctly_classified / total_items\n",
    "    return accuracy.cpu().detach().item()"
   ]
  },
  {
   "cell_type": "markdown",
   "id": "5b5cf451",
   "metadata": {},
   "source": [
    "Acuratetea modelulului neantrenat pe setul de testare este:"
   ]
  },
  {
   "cell_type": "code",
   "execution_count": 60,
   "id": "72591a5e",
   "metadata": {},
   "outputs": [
    {
     "name": "stdout",
     "output_type": "stream",
     "text": [
      "Acuratetea modelului neantrenat: 10.050000250339508%\n"
     ]
    }
   ],
   "source": [
    "acc = test(model, test_loader, device)\n",
    "print(f'Acuratetea modelului neantrenat: {acc * 100}%')"
   ]
  },
  {
   "cell_type": "markdown",
   "id": "81e30aac",
   "metadata": {},
   "source": [
    "Instantiem optimizator"
   ]
  },
  {
   "cell_type": "code",
   "execution_count": 61,
   "id": "d757bfc2",
   "metadata": {},
   "outputs": [],
   "source": [
    "optimizer = torch.optim.Adagrad(model.parameters(), lr=0.1, weight_decay=1e-3)"
   ]
  },
  {
   "cell_type": "markdown",
   "id": "1ed78aef",
   "metadata": {},
   "source": [
    "Functia de eroare este binary cross entropy:"
   ]
  },
  {
   "cell_type": "code",
   "execution_count": 62,
   "id": "d1c93dbf",
   "metadata": {},
   "outputs": [],
   "source": [
    "# definim functia de eroare,cross entropy loss\n",
    "loss_fn = torch.nn.CrossEntropyLoss()"
   ]
  },
  {
   "cell_type": "code",
   "execution_count": 63,
   "id": "c6a1f7ca",
   "metadata": {},
   "outputs": [],
   "source": [
    "# numarul de epoci\n",
    "epochs = 30"
   ]
  },
  {
   "cell_type": "code",
   "execution_count": 64,
   "id": "e9b55711",
   "metadata": {},
   "outputs": [
    {
     "name": "stdout",
     "output_type": "stream",
     "text": [
      "Epoca: 1/30: loss = 0.3569424\n",
      "Epoca: 1/30: acuratete pe setul de testare = 92.0100%\n",
      "\n",
      "Epoca: 2/30: loss = 0.3063391\n",
      "Epoca: 2/30: acuratete pe setul de testare = 91.9200%\n",
      "\n",
      "Epoca: 3/30: loss = 0.3007141\n",
      "Epoca: 3/30: acuratete pe setul de testare = 91.9000%\n",
      "\n",
      "Epoca: 4/30: loss = 0.2979696\n",
      "Epoca: 4/30: acuratete pe setul de testare = 92.0600%\n",
      "\n",
      "Epoca: 5/30: loss = 0.2962094\n",
      "Epoca: 5/30: acuratete pe setul de testare = 91.8200%\n",
      "\n",
      "Epoca: 6/30: loss = 0.2950108\n",
      "Epoca: 6/30: acuratete pe setul de testare = 92.1600%\n",
      "\n",
      "Epoca: 7/30: loss = 0.2944385\n",
      "Epoca: 7/30: acuratete pe setul de testare = 91.8900%\n",
      "\n",
      "Epoca: 8/30: loss = 0.2930434\n",
      "Epoca: 8/30: acuratete pe setul de testare = 91.9300%\n",
      "\n",
      "Epoca: 9/30: loss = 0.2934448\n",
      "Epoca: 9/30: acuratete pe setul de testare = 92.0900%\n",
      "\n",
      "Epoca: 10/30: loss = 0.2921260\n",
      "Epoca: 10/30: acuratete pe setul de testare = 92.1800%\n",
      "\n",
      "Epoca: 11/30: loss = 0.2921614\n",
      "Epoca: 11/30: acuratete pe setul de testare = 92.1500%\n",
      "\n",
      "Epoca: 12/30: loss = 0.2918755\n",
      "Epoca: 12/30: acuratete pe setul de testare = 92.2300%\n",
      "\n",
      "Epoca: 13/30: loss = 0.2914406\n",
      "Epoca: 13/30: acuratete pe setul de testare = 92.1200%\n",
      "\n",
      "Epoca: 14/30: loss = 0.2913349\n",
      "Epoca: 14/30: acuratete pe setul de testare = 92.0000%\n",
      "\n",
      "Epoca: 15/30: loss = 0.2907304\n",
      "Epoca: 15/30: acuratete pe setul de testare = 92.1100%\n",
      "\n",
      "Epoca: 16/30: loss = 0.2905963\n",
      "Epoca: 16/30: acuratete pe setul de testare = 92.0300%\n",
      "\n",
      "Epoca: 17/30: loss = 0.2905754\n",
      "Epoca: 17/30: acuratete pe setul de testare = 92.1000%\n",
      "\n",
      "Epoca: 18/30: loss = 0.2903967\n",
      "Epoca: 18/30: acuratete pe setul de testare = 92.1200%\n",
      "\n",
      "Epoca: 19/30: loss = 0.2903119\n",
      "Epoca: 19/30: acuratete pe setul de testare = 92.0800%\n",
      "\n",
      "Epoca: 20/30: loss = 0.2901028\n",
      "Epoca: 20/30: acuratete pe setul de testare = 92.2300%\n",
      "\n",
      "Epoca: 21/30: loss = 0.2899367\n",
      "Epoca: 21/30: acuratete pe setul de testare = 92.2500%\n",
      "\n",
      "Epoca: 22/30: loss = 0.2899221\n",
      "Epoca: 22/30: acuratete pe setul de testare = 92.2200%\n",
      "\n",
      "Epoca: 23/30: loss = 0.2895754\n",
      "Epoca: 23/30: acuratete pe setul de testare = 92.0800%\n",
      "\n",
      "Epoca: 24/30: loss = 0.2894020\n",
      "Epoca: 24/30: acuratete pe setul de testare = 92.2100%\n",
      "\n",
      "Epoca: 25/30: loss = 0.2896704\n",
      "Epoca: 25/30: acuratete pe setul de testare = 92.1900%\n",
      "\n",
      "Epoca: 26/30: loss = 0.2893328\n",
      "Epoca: 26/30: acuratete pe setul de testare = 92.0600%\n",
      "\n",
      "Epoca: 27/30: loss = 0.2896579\n",
      "Epoca: 27/30: acuratete pe setul de testare = 92.0600%\n",
      "\n",
      "Epoca: 28/30: loss = 0.2892121\n",
      "Epoca: 28/30: acuratete pe setul de testare = 92.1700%\n",
      "\n",
      "Epoca: 29/30: loss = 0.2891737\n",
      "Epoca: 29/30: acuratete pe setul de testare = 92.1400%\n",
      "\n",
      "Epoca: 30/30: loss = 0.2891064\n",
      "Epoca: 30/30: acuratete pe setul de testare = 92.1000%\n",
      "\n"
     ]
    }
   ],
   "source": [
    "losses_train = []\n",
    "losses_test = []\n",
    "accuracies_train = []\n",
    "accuracies_test = []\n",
    "for epoch in range(epochs):\n",
    "    # modelul trebuie trecut in modul train inainte de a se face instruirea lui\n",
    "    # trecerea lui pe modul eval apare la apelul metodei de test()\n",
    "    model.train()\n",
    "    epoch_loss_train = 0\n",
    "    total_items_train = 0\n",
    "    for x_train, y_train in train_loader:\n",
    "        # trecem datele din setul de antrenare pe acelasi device ca si modelul\n",
    "        x_train, y_train = x_train.to(device), y_train.to(device)\n",
    "        \n",
    "        # stergem gradientii calculati anterior, altfel se face acumulare e gradienti - nu e de interes pt acest model\n",
    "        model.zero_grad()\n",
    "        \n",
    "        # modelul prezice probabilitatile conditionate pentru minibatchul curent\n",
    "        logits_train = model(x_train)\n",
    "        \n",
    "        # se calculeaza functia de eroare pe minibatchul curent\n",
    "        loss_train = loss_fn(logits_train, y_train.long())\n",
    "        # loss-ul calculat este media valorii de eroare peste minibatchul curent; \n",
    "        # inmultim media cu numarul de valori din minibatch pentru a determina valoarea cumulata \n",
    "        # a erorii pe minibatch\n",
    "        epoch_loss_train += loss_train.item() * len(x_train)\n",
    "        # actualizam numarul total de valori peset care s-a facut invatarea\n",
    "        total_items_train += len(x_train)\n",
    "        \n",
    "        # cerem calcul de gradienti\n",
    "        loss_train.backward()\n",
    "        \n",
    "        # optimizatorul aplica gradientii pe ponderi = invatare\n",
    "        optimizer.step()\n",
    "    \n",
    "    epoch_loss_train /= total_items_train\n",
    "    losses_train.append(epoch_loss_train)\n",
    "\n",
    "    acc_train = test(model, train_loader, device)\n",
    "    accuracies_train.append(acc_train)\n",
    "\n",
    "    model.eval()\n",
    "    epoch_loss_test = 0\n",
    "    total_items_test = 0\n",
    "    \n",
    "    for x_test, y_test in test_loader:\n",
    "        x_test, y_test = x_test.to(device), y_test.to(device)\n",
    "        logits_test = model(x_test)\n",
    "        loss_test = loss_fn(logits_test, y_test.long())\n",
    "        epoch_loss_test += loss_test.item() * len(x_test)\n",
    "        total_items_test += len(x_test)\n",
    "\n",
    "    epoch_loss_test /= total_items_test\n",
    "    losses_test.append(epoch_loss_test)\n",
    "\n",
    "    acc_test = test(model, test_loader, device)\n",
    "    accuracies_test.append(acc_test)\n",
    "    \n",
    "    \n",
    "    print(f'Epoca: {epoch+1}/{epochs}: loss = {epoch_loss_train:.7f}')\n",
    "    \n",
    "    print(f'Epoca: {epoch + 1}/{epochs}: acuratete pe setul de testare = {acc_test * 100:.4f}%\\n')"
   ]
  },
  {
   "cell_type": "markdown",
   "id": "62767f59",
   "metadata": {},
   "source": [
    "## Grafice evolutie binary logistic regression"
   ]
  },
  {
   "cell_type": "code",
   "execution_count": 65,
   "id": "6137e19f",
   "metadata": {},
   "outputs": [],
   "source": [
    "import os\n",
    "os.environ[\"KMP_DUPLICATE_LIB_OK\"]=\"TRUE\""
   ]
  },
  {
   "cell_type": "code",
   "execution_count": 66,
   "id": "6f201e40",
   "metadata": {},
   "outputs": [
    {
     "data": {
      "image/png": "[encoded data removed]",
      "text/plain": [
       "<Figure size 1000x500 with 1 Axes>"
      ]
     },
     "metadata": {},
     "output_type": "display_data"
    }
   ],
   "source": [
    "plt.figure(figsize=(10, 5))\n",
    "plt.plot(losses_train, label='Antrenare')\n",
    "plt.plot(losses_test, label='Testare')\n",
    "plt.xlabel('Epoca')\n",
    "plt.ylabel('Loss')\n",
    "plt.title('Evoluția loss-ului în timpul antrenării și testării')\n",
    "plt.legend()\n",
    "plt.show()"
   ]
  },
  {
   "cell_type": "code",
   "execution_count": 67,
   "id": "9dcecaef",
   "metadata": {},
   "outputs": [
    {
     "data": {
      "image/png": "[encoded data removed]",
      "text/plain": [
       "<Figure size 1000x500 with 1 Axes>"
      ]
     },
     "metadata": {},
     "output_type": "display_data"
    }
   ],
   "source": [
    "plt.figure(figsize=(10, 5))\n",
    "plt.plot(accuracies_train, label='Antrenare')\n",
    "plt.plot(accuracies_test, label='Testare')\n",
    "plt.xlabel('Epoca')\n",
    "plt.ylabel('Acuratete')\n",
    "plt.title('Evoluția acurateții în timpul antrenării și testării')\n",
    "plt.legend()\n",
    "plt.show()"
   ]
  },
  {
   "cell_type": "code",
   "execution_count": 68,
   "id": "e67ba94e",
   "metadata": {},
   "outputs": [
    {
     "name": "stdout",
     "output_type": "stream",
     "text": [
      "╭────────┬────────┬────────┬────────┬────────┬────────┬────────┬────────┬────────┬────────┬────────┬────────╮\n",
      "│ CnfMat │  pr: 0 │  pr: 1 │  pr: 2 │  pr: 3 │  pr: 4 │  pr: 5 │  pr: 6 │  pr: 7 │  pr: 8 │  pr: 9 │  all a │\n",
      "├────────┼────────┼────────┼────────┼────────┼────────┼────────┼────────┼────────┼────────┼────────┼────────┤\n",
      "│ act: 0 │    960 │      0 │      1 │      2 │      0 │      5 │      8 │      1 │      3 │      0 │    980 │\n",
      "│ act: 1 │      0 │   1110 │      2 │      2 │      0 │      2 │      4 │      2 │     13 │      0 │   1135 │\n",
      "│ act: 2 │      6 │      8 │    913 │     19 │     11 │      3 │     12 │     11 │     41 │      8 │   1032 │\n",
      "│ act: 3 │      3 │      0 │     17 │    931 │      0 │     20 │      2 │     10 │     19 │      8 │   1010 │\n",
      "│ act: 4 │      1 │      3 │      4 │      1 │    911 │      0 │     11 │      2 │     10 │     39 │    982 │\n",
      "│ act: 5 │      9 │      3 │      3 │     47 │      8 │    761 │     17 │      6 │     31 │      7 │    892 │\n",
      "│ act: 6 │     11 │      3 │      3 │      2 │      9 │     12 │    912 │      2 │      4 │      0 │    958 │\n",
      "│ act: 7 │      2 │     13 │     19 │     10 │      6 │      1 │      0 │    937 │      3 │     37 │   1028 │\n",
      "│ act: 8 │      4 │      9 │      6 │     33 │      9 │     22 │     10 │     10 │    865 │      6 │    974 │\n",
      "│ act: 9 │      9 │      7 │      2 │     12 │     31 │      6 │      0 │     22 │     10 │    910 │   1009 │\n",
      "│  all p │   1005 │   1156 │    970 │   1059 │    985 │    832 │    976 │   1003 │    999 │   1015 │  10000 │\n",
      "╰────────┴────────┴────────┴────────┴────────┴────────┴────────┴────────┴────────┴────────┴────────┴────────╯\n"
     ]
    }
   ],
   "source": [
    "from sklearn.metrics import confusion_matrix\n",
    "import tableprint as tab\n",
    "# Inițializăm listele pentru stocarea predicțiilor și etichetelor adevărate pe setul de testare\n",
    "y_pred = []\n",
    "y_true = []\n",
    "\n",
    "# \n",
    "with torch.no_grad():\n",
    "    model.eval()\n",
    "    for x_test, y_test in test_loader:\n",
    "        # Trecem datele de testare pe același dispozitiv ca și modelul\n",
    "        x_test, y_test = x_test.to(device), y_test.to(device)\n",
    "        \n",
    "        logits_test = model(x_test)\n",
    "        predictions = torch.argmax(logits_test, dim=1)  # Determinăm clasa prezisă pentru fiecare exemplu\n",
    "        \n",
    "        \n",
    "        y_pred.extend(predictions.cpu().numpy())\n",
    "        y_true.extend(y_test.cpu().numpy())\n",
    "\n",
    "# Calculăm matricea de confuzie și precizia modelului\n",
    "cm = confusion_matrix(y_true, y_pred)\n",
    "headers = ['CnfMat'] + [f'pr: {x}' for x in range(cm.shape[1])] + ['all a'] \n",
    "table = []\n",
    "\n",
    "for i in range(cm.shape[0]):\n",
    "    table.append([f'act: {i}'] + list(cm[i]) + [sum(cm[i])])\n",
    "table.append(['all p'] + [sum(cm[:, i]) for i in range(cm.shape[1])] + [sum(sum(cm))])\n",
    "tab.table(table, headers, width=6)\n",
    "\n"
   ]
  }
 ],
 "metadata": {
  "kernelspec": {
   "display_name": "Python 3 (ipykernel)",
   "language": "python",
   "name": "python3"
  },
  "language_info": {
   "codemirror_mode": {
    "name": "ipython",
    "version": 3
   },
   "file_extension": ".py",
   "mimetype": "text/x-python",
   "name": "python",
   "nbconvert_exporter": "python",
   "pygments_lexer": "ipython3",
   "version": "3.11.7"
  },
  "toc": {
   "base_numbering": 1,
   "nav_menu": {},
   "number_sections": true,
   "sideBar": true,
   "skip_h1_title": false,
   "title_cell": "Table of Contents",
   "title_sidebar": "Contents",
   "toc_cell": false,
   "toc_position": {
    "height": "calc(100% - 180px)",
    "left": "10px",
    "top": "150px",
    "width": "167.7px"
   },
   "toc_section_display": true,
   "toc_window_display": false
  },
  "varInspector": {
   "cols": {
    "lenName": 16,
    "lenType": 16,
    "lenVar": 40
   },
   "kernels_config": {
    "python": {
     "delete_cmd_postfix": "",
     "delete_cmd_prefix": "del ",
     "library": "var_list.py",
     "varRefreshCmd": "print(var_dic_list())"
    },
    "r": {
     "delete_cmd_postfix": ") ",
     "delete_cmd_prefix": "rm(",
     "library": "var_list.r",
     "varRefreshCmd": "cat(var_dic_list()) "
    }
   },
   "types_to_exclude": [
    "module",
    "function",
    "builtin_function_or_method",
    "instance",
    "_Feature"
   ],
   "window_display": false
  },
  "widgets": {
   "application/vnd.jupyter.widget-state+json": {
    "state": {},
    "version_major": 2,
    "version_minor": 0
   }
  }
 },
 "nbformat": 4,
 "nbformat_minor": 5
}
